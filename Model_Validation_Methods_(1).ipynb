{
  "cells": [
    {
      "cell_type": "markdown",
      "metadata": {
        "id": "vTBG6SDokGGv"
      },
      "source": [
        "# Model Validation Methods"
      ]
    },
    {
      "cell_type": "markdown",
      "metadata": {
        "id": "XJjfamiEkGG4"
      },
      "source": [
        "#### 1.Evaluate using a train and a test set"
      ]
    },
    {
      "cell_type": "code",
      "execution_count": 16,
      "metadata": {
        "colab": {
          "base_uri": "https://localhost:8080/"
        },
        "id": "g8i6G8wZkGG8",
        "outputId": "4127f343-846a-451e-ea36-d263a95db3c4"
      },
      "outputs": [
        {
          "output_type": "stream",
          "name": "stderr",
          "text": [
            "/usr/local/lib/python3.7/dist-packages/sklearn/linear_model/_logistic.py:818: ConvergenceWarning: lbfgs failed to converge (status=1):\n",
            "STOP: TOTAL NO. of ITERATIONS REACHED LIMIT.\n",
            "\n",
            "Increase the number of iterations (max_iter) or scale the data as shown in:\n",
            "    https://scikit-learn.org/stable/modules/preprocessing.html\n",
            "Please also refer to the documentation for alternative solver options:\n",
            "    https://scikit-learn.org/stable/modules/linear_model.html#logistic-regression\n",
            "  extra_warning_msg=_LOGISTIC_SOLVER_CONVERGENCE_MSG,\n"
          ]
        }
      ],
      "source": [
        "# Evaluate using a train and a test set\n",
        "import pandas as pd \n",
        "from pandas import read_csv\n",
        "from sklearn.model_selection import train_test_split\n",
        "from sklearn.linear_model import LogisticRegression\n",
        "dataframe = pd.read_csv('https://raw.githubusercontent.com/omgo101/dataset-/main/pima-indians-diabetes.data%20(1).csv')\n",
        "names = ['preg', 'plas', 'pres', 'skin', 'test', 'mass', 'pedi', 'age', 'class']\n",
        "#dataframe = read_csv(filename, names=names)\n",
        "array = dataframe.values\n",
        "X = array[:,0:8]\n",
        "Y = array[:,8]\n",
        "test_size = 0.33\n",
        "seed = 7\n",
        "X_train, X_test, Y_train, Y_test = train_test_split(X, Y, test_size=test_size,\n",
        "random_state=seed)\n",
        "model = LogisticRegression()\n",
        "model.fit(X_train, Y_train)\n",
        "result = model.score(X_test, Y_test)\n"
      ]
    },
    {
      "cell_type": "code",
      "execution_count": 17,
      "metadata": {
        "colab": {
          "base_uri": "https://localhost:8080/"
        },
        "id": "LxE_oTulkGG-",
        "outputId": "72329ed6-dd1f-47fc-c7ba-43df552c5883"
      },
      "outputs": [
        {
          "output_type": "execute_result",
          "data": {
            "text/plain": [
              "77.16535433070865"
            ]
          },
          "metadata": {},
          "execution_count": 17
        }
      ],
      "source": [
        "result*100.0"
      ]
    },
    {
      "cell_type": "markdown",
      "metadata": {
        "id": "HrzBzfvIkGG-"
      },
      "source": [
        "#### 2.Evaluate using Cross Validation"
      ]
    },
    {
      "cell_type": "code",
      "execution_count": 18,
      "metadata": {
        "id": "WSmmM9iAkGG_"
      },
      "outputs": [],
      "source": [
        "# Evaluate using Cross Validation\n",
        "from pandas import read_csv\n",
        "from sklearn.model_selection import KFold\n",
        "from sklearn.model_selection import cross_val_score\n",
        "from sklearn.linear_model import LogisticRegression\n",
        "dataframe = pd.read_csv('https://raw.githubusercontent.com/omgo101/dataset-/main/pima-indians-diabetes.data%20(1).csv')\n",
        "names = ['preg', 'plas', 'pres', 'skin', 'test', 'mass', 'pedi', 'age', 'class']\n",
        "array = dataframe.values\n",
        "X = array[:,0:8]\n",
        "Y = array[:,8]\n",
        "num_folds = 10\n",
        "seed = 7\n",
        "kfold = KFold(n_splits=num_folds, random_state=seed,shuffle=True)\n",
        "model = LogisticRegression(max_iter=400)\n",
        "results = cross_val_score(model, X, Y, cv=kfold)\n"
      ]
    },
    {
      "cell_type": "code",
      "execution_count": 19,
      "metadata": {
        "colab": {
          "base_uri": "https://localhost:8080/"
        },
        "id": "DAk491UwkGG_",
        "outputId": "8463167a-9541-4548-d2dd-4b4c01948d42"
      },
      "outputs": [
        {
          "output_type": "execute_result",
          "data": {
            "text/plain": [
              "77.3257006151743"
            ]
          },
          "metadata": {},
          "execution_count": 19
        }
      ],
      "source": [
        "results.mean()*100.0"
      ]
    },
    {
      "cell_type": "code",
      "execution_count": 20,
      "metadata": {
        "colab": {
          "base_uri": "https://localhost:8080/"
        },
        "id": "6dKcI8S9kGHA",
        "outputId": "110ba1e4-c323-42d5-d9c0-b96948477862"
      },
      "outputs": [
        {
          "output_type": "execute_result",
          "data": {
            "text/plain": [
              "6.004982361983215"
            ]
          },
          "metadata": {},
          "execution_count": 20
        }
      ],
      "source": [
        "results.std()*100.0"
      ]
    },
    {
      "cell_type": "markdown",
      "metadata": {
        "id": "50hrIXytkGHB"
      },
      "source": [
        "#### 3.Evaluate using Leave One Out Cross Validation"
      ]
    },
    {
      "cell_type": "code",
      "execution_count": 21,
      "metadata": {
        "id": "oMEMoakHkGHB"
      },
      "outputs": [],
      "source": [
        "# Evaluate using Leave One Out Cross Validation\n",
        "from pandas import read_csv\n",
        "from sklearn.model_selection import LeaveOneOut\n",
        "from sklearn.model_selection import cross_val_score\n",
        "from sklearn.linear_model import LogisticRegression\n",
        "filename = 'pima-indians-diabetes.data.csv'\n",
        "names = ['preg', 'plas', 'pres', 'skin', 'test', 'mass', 'pedi', 'age', 'class']\n",
        "#dataframe = read_csv(filename, names=names)\n",
        "array = dataframe.values\n",
        "X = array[:,0:8]\n",
        "Y = array[:,8]\n",
        "loocv = LeaveOneOut()\n",
        "model = LogisticRegression(max_iter=300)\n",
        "results = cross_val_score(model, X, Y, cv=loocv)\n"
      ]
    },
    {
      "cell_type": "code",
      "execution_count": 22,
      "metadata": {
        "colab": {
          "base_uri": "https://localhost:8080/"
        },
        "id": "wpQN2k6nkGHC",
        "outputId": "810bfe59-3aee-479a-d7a6-534d82230479"
      },
      "outputs": [
        {
          "output_type": "execute_result",
          "data": {
            "text/plain": [
              "77.83572359843546"
            ]
          },
          "metadata": {},
          "execution_count": 22
        }
      ],
      "source": [
        "results.mean()*100.0"
      ]
    },
    {
      "cell_type": "code",
      "execution_count": 23,
      "metadata": {
        "colab": {
          "base_uri": "https://localhost:8080/"
        },
        "id": "WRemFDexkGHC",
        "outputId": "5a22767c-a96a-4e41-b534-3b0a5728d1a8"
      },
      "outputs": [
        {
          "output_type": "execute_result",
          "data": {
            "text/plain": [
              "41.53519581934703"
            ]
          },
          "metadata": {},
          "execution_count": 23
        }
      ],
      "source": [
        "results.std()*100.0"
      ]
    },
    {
      "cell_type": "code",
      "execution_count": 23,
      "metadata": {
        "id": "h76eDhPqkGHD"
      },
      "outputs": [],
      "source": []
    }
  ],
  "metadata": {
    "kernelspec": {
      "display_name": "Python 3",
      "language": "python",
      "name": "python3"
    },
    "language_info": {
      "codemirror_mode": {
        "name": "ipython",
        "version": 3
      },
      "file_extension": ".py",
      "mimetype": "text/x-python",
      "name": "python",
      "nbconvert_exporter": "python",
      "pygments_lexer": "ipython3",
      "version": "3.7.4"
    },
    "colab": {
      "provenance": []
    }
  },
  "nbformat": 4,
  "nbformat_minor": 0
}